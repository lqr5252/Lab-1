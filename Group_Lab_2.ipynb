{
  "nbformat": 4,
  "nbformat_minor": 0,
  "metadata": {
    "colab": {
      "name": "Group Lab 2.ipynb",
      "provenance": [],
      "collapsed_sections": [],
      "include_colab_link": true
    },
    "kernelspec": {
      "name": "python3",
      "display_name": "Python 3"
    }
  },
  "cells": [
    {
      "cell_type": "markdown",
      "metadata": {
        "id": "view-in-github",
        "colab_type": "text"
      },
      "source": [
        "<a href=\"https://colab.research.google.com/github/lqr5252/Lab-1/blob/master/Group_Lab_2.ipynb\" target=\"_parent\"><img src=\"https://colab.research.google.com/assets/colab-badge.svg\" alt=\"Open In Colab\"/></a>"
      ]
    },
    {
      "cell_type": "markdown",
      "metadata": {
        "id": "IzvxU9FcPUNH"
      },
      "source": [
        "##Description"
      ]
    },
    {
      "cell_type": "markdown",
      "metadata": {
        "id": "ntvu7wyNPYA3"
      },
      "source": [
        "  Our ER diagram is based on our idea of a business that combines the two concepts of a drive-in movie theater and a normal movie theater. How we structured our ER diagram was to have the entities: outdoor lot, screening room, employees, actors, movies, and genre. Within the entity of the outdoor lot, it consisted of the primary key of the lot's number and the attributes of rows of cars, columns of cars, projector, and movie. The primary key of the lot number is connected to the foreign key of location in the entity employees. One and only one outdoor lot is worked by one to thirty employees. The attribute of movie is a foreign key connected to the primary key of the IMDB code in the movie entity. One and only one outdoor lot projects one and only one movie. Another entity is the screening room, where the primary key is room number, which connects to the foreign key location in the employees entity. One to thirty screening rooms are cleaned by about 1 to 10 employees. Other attributes within the entity are the number of seats, projector, screen, and movie. The attribute movie is a foreign key which is connected to the primary key of IMDB code in the entity movie. One to thirty screening rooms show one and only one movie. The movie entity has a primary key of IMDB code (as it is more specific than the title); and three attributes of rating  (G-R), actor, and genre. Only one movie is projected on only one outdoor lot, and the movie entity has a 1 to 50 \"starred\" relationship with the 1 to 1000 actors entity. One to thirty movies have one to ten genres. Also, only one movie is shown in one to thirty screening rooms. Actors have a primary key of SSN and attributes of first name, last name, and age. Actors \"starred\" in movies, and for the cardinality, one movie can have approximately 50 actors where one actor can star in 1000+ movies.\n",
        "Employees have a primary key of SSN and contain the attributes first name, last name, position, and location. There can be 1 to 10 employees for cleaning every screening room, which can be 1 to 30 rooms. There also can be 1 to 30 Employees who work in the outdoor lot, which is a single lot making it 1 to 1 only. The entity genre has the primary key genre. It contains the attributes title, duration, and budget. For the genre, there can be 1 to 10 of them in each movie, which can be 1 to 30 different movies in total. "
      ]
    },
    {
      "cell_type": "markdown",
      "metadata": {
        "id": "GF5mdWUEPY-N"
      },
      "source": [
        "##ER Diagram"
      ]
    },
    {
      "cell_type": "markdown",
      "metadata": {
        "id": "XiA_10G_PeHE"
      },
      "source": [
        "![ER Diagram Image](https://raw.githubusercontent.com/lqr5252/Lab-1/master/images/Lab%202%20210%20Project%20ER%20Diagram.png)"
      ]
    }
  ]
}