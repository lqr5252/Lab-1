{
  "nbformat": 4,
  "nbformat_minor": 0,
  "metadata": {
    "colab": {
      "name": "Group Lab 2.ipynb",
      "provenance": [],
      "collapsed_sections": [],
      "include_colab_link": true
    },
    "kernelspec": {
      "name": "python3",
      "display_name": "Python 3"
    }
  },
  "cells": [
    {
      "cell_type": "markdown",
      "metadata": {
        "id": "view-in-github",
        "colab_type": "text"
      },
      "source": [
        "<a href=\"https://colab.research.google.com/github/lqr5252/Lab-1/blob/master/Group_Lab_2.ipynb\" target=\"_parent\"><img src=\"https://colab.research.google.com/assets/colab-badge.svg\" alt=\"Open In Colab\"/></a>"
      ]
    },
    {
      "cell_type": "markdown",
      "metadata": {
        "id": "IzvxU9FcPUNH"
      },
      "source": [
        "##Description"
      ]
    },
    {
      "cell_type": "markdown",
      "metadata": {
        "id": "ntvu7wyNPYA3"
      },
      "source": [
        "  Our ER diagram is based on our idea of a business that combines the two concepts of a drive-in movie theater and a normal movie theater. How we structured our ER diagram was to have the entities: outdoor lot, screening room, employees, actors, casting, movies, and genre. Within the entity of the outdoor lot, it consisted of the primary key of the lot's number and the attributes of rows of cars, columns of cars, projector, and movie. The attribute of movie is a foreign key connected to the primary key of the IMDB code in the movie entity. One and only one outdoor lot projects one and only one movie. Another entity is the screening room, where the primary key is room number, which connects to the foreign key location in the employees entity. One and only one screening room is cleaned by about 1 to 10 employees. Other attributes within the entity are the number of seats, projector, screen, and movie. The attribute movie is a foreign key which is connected to the primary key of IMDB code in the entity movie. One to thirty screening rooms show one and only one movie. The movie entity has a primary key of IMDB code (as it is more specific than the title); and three attributes of rating  (G-R), year released, and genre. Only one movie is projected on only one outdoor lot. One and only one movie has one and only one casting, these entities are connected by the primary key of IMDB in the movie entity which is connected to the casting entity's primary key/foreign key of movie. One and only one movie have one and only one genre. Also, only one movie is shown in one to thirty screening rooms. Actors have a primary key of SSN and attributes of first name, last name, and age. One and only one actor is cast in one and only one casting. Actors entity is connected to the casting entity by the primary key of SSN in the actors' entity to the primary key/foreign key actor in the casting entity. The casting entity consists of the two primary/foreign keys of actor and movie as well as two more attributes of pay grade (A list or B list).\n",
        "Employees have a primary key of SSN and contain the attributes first name, last name, position, and location. There can be 1 to 10 employees for cleaning only one screening room. The entity genre has the primary key called genre. It contains the attributes title, duration, and budget. For the genre, there can be 1 and only one for each one and only one movie. "
      ]
    },
    {
      "cell_type": "markdown",
      "metadata": {
        "id": "GF5mdWUEPY-N"
      },
      "source": [
        "##ER Diagram"
      ]
    },
    {
      "cell_type": "markdown",
      "metadata": {
        "id": "XiA_10G_PeHE"
      },
      "source": [
        "![ER Diagram Image](https://raw.githubusercontent.com/lqr5252/Lab-1/master/images/Lab%202%20210%20Project%20ER%20Diagram.png)"
      ]
    }
  ]
}