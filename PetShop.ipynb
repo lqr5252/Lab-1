{
  "nbformat": 4,
  "nbformat_minor": 0,
  "metadata": {
    "colab": {
      "name": "PetShop.ipynb",
      "provenance": [],
      "collapsed_sections": [],
      "authorship_tag": "ABX9TyNU4Vca5JkRyaNIA0dHLt+i",
      "include_colab_link": true
    },
    "kernelspec": {
      "name": "python3",
      "display_name": "Python 3"
    }
  },
  "cells": [
    {
      "cell_type": "markdown",
      "metadata": {
        "id": "view-in-github",
        "colab_type": "text"
      },
      "source": [
        "<a href=\"https://colab.research.google.com/github/lqr5252/Lab-1/blob/master/PetShop.ipynb\" target=\"_parent\"><img src=\"https://colab.research.google.com/assets/colab-badge.svg\" alt=\"Open In Colab\"/></a>"
      ]
    },
    {
      "cell_type": "markdown",
      "metadata": {
        "id": "JXaXQIoJlpwF"
      },
      "source": [
        "##Description"
      ]
    },
    {
      "cell_type": "markdown",
      "metadata": {
        "id": "UpA94EZ_lvRS"
      },
      "source": [
        "The pet shop entity-relationship diagram shows the relationship between the entity of the pet shop. The entities that I have created for this Pet Shop ER are pets, food, enclosures, customers, the transaction for pets, and transactions for food. The entity of pets consisted of the attributes of type, name, location, food type, and license number which is the primary key. A foreign key of location in the entity pet connects to the entity enclosures' primary key of the enclosure number. One to twenty pets are kept in one and only one enclosure. Other attributes that are within the entity enclosures are size, type, and number of pets. Another entity is the food it has the attributes of brand, pet type, texture, barcode, and serial number which is the primary key and that primary key is related to the foreign key of food ID in the entity customers and the foreign key of food type in the pet entity. One and only one pet eats between one and one thousands food. One to ten foods are bought by one and only one customer. Customer entity consists of the attributes of first name, email, last name, phone number, food ID, the primary key Loyalty program ID, and the foreign key of purchase which is related to the entities of transaction of pets and transaction of food. Customers make transaction of pets and trasaction of food. One and only one customer makes 1 to 5 transaction of pets and 1 to 10 transaction of food. The transaction of pets entity consists of the attributes of cost, certificate, pet type, and the primary key pet ID number. The attributes of transaction of food are price, brand, OR code, and barcode which is the primary key."
      ]
    },
    {
      "cell_type": "markdown",
      "metadata": {
        "id": "7DSFZIsAGtTN"
      },
      "source": [
        "## Pet Shop ER Diagram"
      ]
    },
    {
      "cell_type": "markdown",
      "metadata": {
        "id": "ohUO7xnMGyx2"
      },
      "source": [
        "![Pet Shop ER Diagram Image](https://raw.githubusercontent.com/lqr5252/Lab-1/master/images/PetShop.png)"
      ]
    }
  ]
}