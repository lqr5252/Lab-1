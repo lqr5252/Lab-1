{
  "nbformat": 4,
  "nbformat_minor": 0,
  "metadata": {
    "colab": {
      "name": "Lab 3 Group Assignment.ipynb",
      "provenance": [],
      "collapsed_sections": [],
      "include_colab_link": true
    },
    "kernelspec": {
      "name": "python3",
      "display_name": "Python 3"
    }
  },
  "cells": [
    {
      "cell_type": "markdown",
      "metadata": {
        "id": "view-in-github",
        "colab_type": "text"
      },
      "source": [
        "<a href=\"https://colab.research.google.com/github/lqr5252/Lab-1/blob/master/Lab_3_Group_Assignment.ipynb\" target=\"_parent\"><img src=\"https://colab.research.google.com/assets/colab-badge.svg\" alt=\"Open In Colab\"/></a>"
      ]
    },
    {
      "cell_type": "code",
      "metadata": {
        "id": "inF7Dchem2NW",
        "colab": {
          "base_uri": "https://localhost:8080/",
          "height": 37
        },
        "outputId": "639fc625-85da-4d16-e1ae-e76b6ec8668a"
      },
      "source": [
        "%reload_ext sql\n",
        "%sql sqlite:///movieTheater.db"
      ],
      "execution_count": 1,
      "outputs": [
        {
          "output_type": "execute_result",
          "data": {
            "application/vnd.google.colaboratory.intrinsic+json": {
              "type": "string"
            },
            "text/plain": [
              "'Connected: @movieTheater.db'"
            ]
          },
          "metadata": {
            "tags": []
          },
          "execution_count": 1
        }
      ]
    },
    {
      "cell_type": "code",
      "metadata": {
        "id": "NTQj0-JPwnyQ",
        "colab": {
          "base_uri": "https://localhost:8080/"
        },
        "outputId": "0836f90a-de6d-46b0-86be-e423c4da4f74"
      },
      "source": [
        "%%sql\n",
        "DROP TABLE IF EXISTS Outdoor_Lot"
      ],
      "execution_count": 2,
      "outputs": [
        {
          "output_type": "stream",
          "text": [
            " * sqlite:///movieTheater.db\n",
            "Done.\n"
          ],
          "name": "stdout"
        },
        {
          "output_type": "execute_result",
          "data": {
            "text/plain": [
              "[]"
            ]
          },
          "metadata": {
            "tags": []
          },
          "execution_count": 2
        }
      ]
    },
    {
      "cell_type": "code",
      "metadata": {
        "id": "E8cYK3ZOyejB",
        "colab": {
          "base_uri": "https://localhost:8080/"
        },
        "outputId": "547d3b67-608a-48c2-a852-a9431df42358"
      },
      "source": [
        "%%sql\n",
        "DROP TABLE IF EXISTS Screening_Room"
      ],
      "execution_count": 3,
      "outputs": [
        {
          "output_type": "stream",
          "text": [
            " * sqlite:///movieTheater.db\n",
            "Done.\n"
          ],
          "name": "stdout"
        },
        {
          "output_type": "execute_result",
          "data": {
            "text/plain": [
              "[]"
            ]
          },
          "metadata": {
            "tags": []
          },
          "execution_count": 3
        }
      ]
    },
    {
      "cell_type": "code",
      "metadata": {
        "id": "NTT0ORutylqo",
        "colab": {
          "base_uri": "https://localhost:8080/"
        },
        "outputId": "b2fdf442-6a78-4af8-f2bb-6e78e0c0b368"
      },
      "source": [
        "%%sql\n",
        "DROP TABLE IF EXISTS Employees"
      ],
      "execution_count": 4,
      "outputs": [
        {
          "output_type": "stream",
          "text": [
            " * sqlite:///movieTheater.db\n",
            "Done.\n"
          ],
          "name": "stdout"
        },
        {
          "output_type": "execute_result",
          "data": {
            "text/plain": [
              "[]"
            ]
          },
          "metadata": {
            "tags": []
          },
          "execution_count": 4
        }
      ]
    },
    {
      "cell_type": "code",
      "metadata": {
        "id": "2Fx4_pW1yl4M",
        "colab": {
          "base_uri": "https://localhost:8080/"
        },
        "outputId": "de590784-735e-4eef-c044-d9f6b8a14ec6"
      },
      "source": [
        "%%sql\n",
        "DROP TABLE IF EXISTS Actors"
      ],
      "execution_count": 5,
      "outputs": [
        {
          "output_type": "stream",
          "text": [
            " * sqlite:///movieTheater.db\n",
            "Done.\n"
          ],
          "name": "stdout"
        },
        {
          "output_type": "execute_result",
          "data": {
            "text/plain": [
              "[]"
            ]
          },
          "metadata": {
            "tags": []
          },
          "execution_count": 5
        }
      ]
    },
    {
      "cell_type": "code",
      "metadata": {
        "id": "toZ9UJZgymB2",
        "colab": {
          "base_uri": "https://localhost:8080/"
        },
        "outputId": "211daf66-f44c-424d-b31b-da0b892496eb"
      },
      "source": [
        "%%sql\n",
        "DROP TABLE IF EXISTS Casting"
      ],
      "execution_count": 6,
      "outputs": [
        {
          "output_type": "stream",
          "text": [
            " * sqlite:///movieTheater.db\n",
            "Done.\n"
          ],
          "name": "stdout"
        },
        {
          "output_type": "execute_result",
          "data": {
            "text/plain": [
              "[]"
            ]
          },
          "metadata": {
            "tags": []
          },
          "execution_count": 6
        }
      ]
    },
    {
      "cell_type": "code",
      "metadata": {
        "id": "-4Q8HavNymNU",
        "colab": {
          "base_uri": "https://localhost:8080/"
        },
        "outputId": "423ee0c4-4ca8-4aaa-a71e-f45dce2c3f08"
      },
      "source": [
        "%%sql\n",
        "DROP TABLE IF EXISTS Movie"
      ],
      "execution_count": 7,
      "outputs": [
        {
          "output_type": "stream",
          "text": [
            " * sqlite:///movieTheater.db\n",
            "Done.\n"
          ],
          "name": "stdout"
        },
        {
          "output_type": "execute_result",
          "data": {
            "text/plain": [
              "[]"
            ]
          },
          "metadata": {
            "tags": []
          },
          "execution_count": 7
        }
      ]
    },
    {
      "cell_type": "code",
      "metadata": {
        "id": "HNh3rFyjymWj",
        "colab": {
          "base_uri": "https://localhost:8080/"
        },
        "outputId": "83af3aa8-f33a-4091-b377-937149939cb5"
      },
      "source": [
        "%%sql\n",
        "DROP TABLE IF EXISTS Genre"
      ],
      "execution_count": 8,
      "outputs": [
        {
          "output_type": "stream",
          "text": [
            " * sqlite:///movieTheater.db\n",
            "Done.\n"
          ],
          "name": "stdout"
        },
        {
          "output_type": "execute_result",
          "data": {
            "text/plain": [
              "[]"
            ]
          },
          "metadata": {
            "tags": []
          },
          "execution_count": 8
        }
      ]
    },
    {
      "cell_type": "code",
      "metadata": {
        "id": "BW9cghSVw4qS",
        "colab": {
          "base_uri": "https://localhost:8080/"
        },
        "outputId": "b119747b-a539-4a9a-8a7e-a3c48283ef92"
      },
      "source": [
        "%%sql\n",
        "CREATE TABLE Outdoor_Lot(lot_number integer primary key, rows_of_cars integer, columns_of_cars integer, projector text, movie text);"
      ],
      "execution_count": 9,
      "outputs": [
        {
          "output_type": "stream",
          "text": [
            " * sqlite:///movieTheater.db\n",
            "Done.\n"
          ],
          "name": "stdout"
        },
        {
          "output_type": "execute_result",
          "data": {
            "text/plain": [
              "[]"
            ]
          },
          "metadata": {
            "tags": []
          },
          "execution_count": 9
        }
      ]
    },
    {
      "cell_type": "code",
      "metadata": {
        "id": "_bORx7S4xXxn",
        "colab": {
          "base_uri": "https://localhost:8080/"
        },
        "outputId": "dc336155-903b-48cd-cbc4-a07d63d983fb"
      },
      "source": [
        "%%sql\n",
        "INSERT INTO Outdoor_Lot values(1, 2, 3, 'Epson 111', 'Jumanji');"
      ],
      "execution_count": 10,
      "outputs": [
        {
          "output_type": "stream",
          "text": [
            " * sqlite:///movieTheater.db\n",
            "1 rows affected.\n"
          ],
          "name": "stdout"
        },
        {
          "output_type": "execute_result",
          "data": {
            "text/plain": [
              "[]"
            ]
          },
          "metadata": {
            "tags": []
          },
          "execution_count": 10
        }
      ]
    },
    {
      "cell_type": "code",
      "metadata": {
        "id": "VBYWO6uUxzug",
        "colab": {
          "base_uri": "https://localhost:8080/"
        },
        "outputId": "d3f8fe53-40f4-43a4-8778-7fff0ff174b4"
      },
      "source": [
        "%%sql\n",
        "INSERT INTO Outdoor_Lot values(2, 3, 3, 'Epson 122', 'Matilda');"
      ],
      "execution_count": 11,
      "outputs": [
        {
          "output_type": "stream",
          "text": [
            " * sqlite:///movieTheater.db\n",
            "1 rows affected.\n"
          ],
          "name": "stdout"
        },
        {
          "output_type": "execute_result",
          "data": {
            "text/plain": [
              "[]"
            ]
          },
          "metadata": {
            "tags": []
          },
          "execution_count": 11
        }
      ]
    },
    {
      "cell_type": "code",
      "metadata": {
        "id": "hd-3VqBAx0Ch",
        "colab": {
          "base_uri": "https://localhost:8080/"
        },
        "outputId": "b05a90ab-cda6-49e6-f4f0-c57764c47fb3"
      },
      "source": [
        "%%sql\n",
        "INSERT INTO Outdoor_Lot values(3, 2, 4, 'Epson 111', 'I am Legend');"
      ],
      "execution_count": 12,
      "outputs": [
        {
          "output_type": "stream",
          "text": [
            " * sqlite:///movieTheater.db\n",
            "1 rows affected.\n"
          ],
          "name": "stdout"
        },
        {
          "output_type": "execute_result",
          "data": {
            "text/plain": [
              "[]"
            ]
          },
          "metadata": {
            "tags": []
          },
          "execution_count": 12
        }
      ]
    },
    {
      "cell_type": "code",
      "metadata": {
        "id": "tR4RTe8tx0QU",
        "colab": {
          "base_uri": "https://localhost:8080/"
        },
        "outputId": "7be52090-99e4-4a4c-f95e-b84b60181378"
      },
      "source": [
        "%%sql\n",
        "INSERT INTO Outdoor_Lot values(4, 5, 2, 'Epson 123', 'Moana');"
      ],
      "execution_count": 13,
      "outputs": [
        {
          "output_type": "stream",
          "text": [
            " * sqlite:///movieTheater.db\n",
            "1 rows affected.\n"
          ],
          "name": "stdout"
        },
        {
          "output_type": "execute_result",
          "data": {
            "text/plain": [
              "[]"
            ]
          },
          "metadata": {
            "tags": []
          },
          "execution_count": 13
        }
      ]
    },
    {
      "cell_type": "code",
      "metadata": {
        "id": "EZdZA5qDx0Zf",
        "colab": {
          "base_uri": "https://localhost:8080/"
        },
        "outputId": "e1c1c370-695a-4005-85c4-38677b6f2213"
      },
      "source": [
        "%%sql\n",
        "INSERT INTO Outdoor_Lot values(5, 3, 3, 'Epson 122', 'The Wolf of Wall Street');"
      ],
      "execution_count": 14,
      "outputs": [
        {
          "output_type": "stream",
          "text": [
            " * sqlite:///movieTheater.db\n",
            "1 rows affected.\n"
          ],
          "name": "stdout"
        },
        {
          "output_type": "execute_result",
          "data": {
            "text/plain": [
              "[]"
            ]
          },
          "metadata": {
            "tags": []
          },
          "execution_count": 14
        }
      ]
    },
    {
      "cell_type": "code",
      "metadata": {
        "id": "QtyvKP0hy6qg",
        "colab": {
          "base_uri": "https://localhost:8080/"
        },
        "outputId": "ac3b0044-27f2-4987-8b89-cd6f9d93f3e9"
      },
      "source": [
        "%%sql\n",
        "CREATE TABLE Screening_Room (room_number integer primary key, number_of_seats integer, projector text, screen text, movie text);"
      ],
      "execution_count": 15,
      "outputs": [
        {
          "output_type": "stream",
          "text": [
            " * sqlite:///movieTheater.db\n",
            "Done.\n"
          ],
          "name": "stdout"
        },
        {
          "output_type": "execute_result",
          "data": {
            "text/plain": [
              "[]"
            ]
          },
          "metadata": {
            "tags": []
          },
          "execution_count": 15
        }
      ]
    },
    {
      "cell_type": "code",
      "metadata": {
        "id": "-2Eqz6D28d0s",
        "colab": {
          "base_uri": "https://localhost:8080/"
        },
        "outputId": "40b2e626-e7d0-4c8c-c7d2-7237c96d0111"
      },
      "source": [
        "%%sql\n",
        "INSERT INTO Screening_Room values(1, 50, 'Espon 222', 'Spectrum','Groundhog Day');"
      ],
      "execution_count": 16,
      "outputs": [
        {
          "output_type": "stream",
          "text": [
            " * sqlite:///movieTheater.db\n",
            "1 rows affected.\n"
          ],
          "name": "stdout"
        },
        {
          "output_type": "execute_result",
          "data": {
            "text/plain": [
              "[]"
            ]
          },
          "metadata": {
            "tags": []
          },
          "execution_count": 16
        }
      ]
    },
    {
      "cell_type": "code",
      "metadata": {
        "id": "ra_NtJ2XJv2p",
        "colab": {
          "base_uri": "https://localhost:8080/"
        },
        "outputId": "7eb61162-784f-4a04-ac5f-9e70f4798931"
      },
      "source": [
        "%%sql\n",
        "INSERT INTO Screening_Room values(2, 100, 'Espon 211', 'VMAX','Transformers');"
      ],
      "execution_count": 17,
      "outputs": [
        {
          "output_type": "stream",
          "text": [
            " * sqlite:///movieTheater.db\n",
            "1 rows affected.\n"
          ],
          "name": "stdout"
        },
        {
          "output_type": "execute_result",
          "data": {
            "text/plain": [
              "[]"
            ]
          },
          "metadata": {
            "tags": []
          },
          "execution_count": 17
        }
      ]
    },
    {
      "cell_type": "code",
      "metadata": {
        "id": "WdLegIjYJwVE",
        "colab": {
          "base_uri": "https://localhost:8080/"
        },
        "outputId": "0ead3fe8-37de-47a8-b825-f2e83976d7bd"
      },
      "source": [
        "%%sql\n",
        "INSERT INTO Screening_Room values(3, 75, 'Espon 211', 'VMAX','Arrival');"
      ],
      "execution_count": 18,
      "outputs": [
        {
          "output_type": "stream",
          "text": [
            " * sqlite:///movieTheater.db\n",
            "1 rows affected.\n"
          ],
          "name": "stdout"
        },
        {
          "output_type": "execute_result",
          "data": {
            "text/plain": [
              "[]"
            ]
          },
          "metadata": {
            "tags": []
          },
          "execution_count": 18
        }
      ]
    },
    {
      "cell_type": "code",
      "metadata": {
        "id": "07b1LqTyJwgr",
        "colab": {
          "base_uri": "https://localhost:8080/"
        },
        "outputId": "a42789c4-38b4-4523-cf4f-a19ab83ea803"
      },
      "source": [
        "%%sql\n",
        "INSERT INTO Screening_Room values(4, 60, 'Espon 233', 'Spectrum','Modern Times');"
      ],
      "execution_count": 19,
      "outputs": [
        {
          "output_type": "stream",
          "text": [
            " * sqlite:///movieTheater.db\n",
            "1 rows affected.\n"
          ],
          "name": "stdout"
        },
        {
          "output_type": "execute_result",
          "data": {
            "text/plain": [
              "[]"
            ]
          },
          "metadata": {
            "tags": []
          },
          "execution_count": 19
        }
      ]
    },
    {
      "cell_type": "code",
      "metadata": {
        "id": "7EgOVdfWJwpH",
        "colab": {
          "base_uri": "https://localhost:8080/"
        },
        "outputId": "87e92236-0814-4f55-ca0d-08f6dded2190"
      },
      "source": [
        "%%sql\n",
        "INSERT INTO Screening_Room values(5, 50, 'Espon 222', 'Spectrum','The shining');"
      ],
      "execution_count": 20,
      "outputs": [
        {
          "output_type": "stream",
          "text": [
            " * sqlite:///movieTheater.db\n",
            "1 rows affected.\n"
          ],
          "name": "stdout"
        },
        {
          "output_type": "execute_result",
          "data": {
            "text/plain": [
              "[]"
            ]
          },
          "metadata": {
            "tags": []
          },
          "execution_count": 20
        }
      ]
    },
    {
      "cell_type": "code",
      "metadata": {
        "id": "idwEaGtrLU8b",
        "colab": {
          "base_uri": "https://localhost:8080/"
        },
        "outputId": "f6aa2f82-26ec-4271-bdf3-8787b223cc67"
      },
      "source": [
        "%%sql\n",
        "CREATE TABLE Employees (SSN text primary key, first_name text, last_name text, position text, location text);"
      ],
      "execution_count": 21,
      "outputs": [
        {
          "output_type": "stream",
          "text": [
            " * sqlite:///movieTheater.db\n",
            "Done.\n"
          ],
          "name": "stdout"
        },
        {
          "output_type": "execute_result",
          "data": {
            "text/plain": [
              "[]"
            ]
          },
          "metadata": {
            "tags": []
          },
          "execution_count": 21
        }
      ]
    },
    {
      "cell_type": "code",
      "metadata": {
        "id": "bd6VjZZJMRdR",
        "colab": {
          "base_uri": "https://localhost:8080/"
        },
        "outputId": "520eec1e-4fc4-4a50-f5cd-ca8553104d1e"
      },
      "source": [
        "%%sql\n",
        "INSERT INTO Employees values('156-37-1968', 'John', 'Smith', 'Head Cashier', 1 );"
      ],
      "execution_count": 22,
      "outputs": [
        {
          "output_type": "stream",
          "text": [
            " * sqlite:///movieTheater.db\n",
            "1 rows affected.\n"
          ],
          "name": "stdout"
        },
        {
          "output_type": "execute_result",
          "data": {
            "text/plain": [
              "[]"
            ]
          },
          "metadata": {
            "tags": []
          },
          "execution_count": 22
        }
      ]
    },
    {
      "cell_type": "code",
      "metadata": {
        "id": "-S2iEzK5M_t7",
        "colab": {
          "base_uri": "https://localhost:8080/"
        },
        "outputId": "5c2e7760-87e1-4208-8d0e-57cddddfc442"
      },
      "source": [
        "%%sql\n",
        "INSERT INTO Employees values('147-90-2389', 'Michael', 'Smith', 'Janitor', 2);"
      ],
      "execution_count": 23,
      "outputs": [
        {
          "output_type": "stream",
          "text": [
            " * sqlite:///movieTheater.db\n",
            "1 rows affected.\n"
          ],
          "name": "stdout"
        },
        {
          "output_type": "execute_result",
          "data": {
            "text/plain": [
              "[]"
            ]
          },
          "metadata": {
            "tags": []
          },
          "execution_count": 23
        }
      ]
    },
    {
      "cell_type": "code",
      "metadata": {
        "id": "ZNDs9iiaM_5A",
        "colab": {
          "base_uri": "https://localhost:8080/"
        },
        "outputId": "e79bca37-bf26-42ab-f70c-053e82724149"
      },
      "source": [
        "%%sql\n",
        "INSERT INTO Employees values('811-46-9078', 'Heather', 'Michaels', 'Guest Services', 3);"
      ],
      "execution_count": 24,
      "outputs": [
        {
          "output_type": "stream",
          "text": [
            " * sqlite:///movieTheater.db\n",
            "1 rows affected.\n"
          ],
          "name": "stdout"
        },
        {
          "output_type": "execute_result",
          "data": {
            "text/plain": [
              "[]"
            ]
          },
          "metadata": {
            "tags": []
          },
          "execution_count": 24
        }
      ]
    },
    {
      "cell_type": "code",
      "metadata": {
        "id": "f2iYIFxwNAAn",
        "colab": {
          "base_uri": "https://localhost:8080/"
        },
        "outputId": "a04b144f-04cd-441e-9405-4eb4373f9acd"
      },
      "source": [
        "%%sql\n",
        "INSERT INTO Employees values('178-38-2019', 'Dale', 'Evanson', 'Janitor', 4);"
      ],
      "execution_count": 25,
      "outputs": [
        {
          "output_type": "stream",
          "text": [
            " * sqlite:///movieTheater.db\n",
            "1 rows affected.\n"
          ],
          "name": "stdout"
        },
        {
          "output_type": "execute_result",
          "data": {
            "text/plain": [
              "[]"
            ]
          },
          "metadata": {
            "tags": []
          },
          "execution_count": 25
        }
      ]
    },
    {
      "cell_type": "code",
      "metadata": {
        "id": "IY93E0e4NAHC",
        "colab": {
          "base_uri": "https://localhost:8080/"
        },
        "outputId": "44cb859e-efd6-41e8-fd48-4078cc940cc4"
      },
      "source": [
        "%%sql\n",
        "INSERT INTO Employees values('167-45-4500', 'Taylor', 'Hights', 'Cashier', 5);"
      ],
      "execution_count": 26,
      "outputs": [
        {
          "output_type": "stream",
          "text": [
            " * sqlite:///movieTheater.db\n",
            "1 rows affected.\n"
          ],
          "name": "stdout"
        },
        {
          "output_type": "execute_result",
          "data": {
            "text/plain": [
              "[]"
            ]
          },
          "metadata": {
            "tags": []
          },
          "execution_count": 26
        }
      ]
    },
    {
      "cell_type": "code",
      "metadata": {
        "colab": {
          "base_uri": "https://localhost:8080/"
        },
        "id": "ctbCebmrH6rH",
        "outputId": "4c30f8f4-27c7-4478-8e55-b3ca4ffc02da"
      },
      "source": [
        "%%sql\n",
        "CREATE TABLE Actors(SSN text primary key, first_name text, last_name text, age integer);"
      ],
      "execution_count": 27,
      "outputs": [
        {
          "output_type": "stream",
          "text": [
            " * sqlite:///movieTheater.db\n",
            "Done.\n"
          ],
          "name": "stdout"
        },
        {
          "output_type": "execute_result",
          "data": {
            "text/plain": [
              "[]"
            ]
          },
          "metadata": {
            "tags": []
          },
          "execution_count": 27
        }
      ]
    },
    {
      "cell_type": "code",
      "metadata": {
        "colab": {
          "base_uri": "https://localhost:8080/"
        },
        "id": "KEEWFgGDH-er",
        "outputId": "8c0da25b-c6b4-496a-91b2-8077668f1eee"
      },
      "source": [
        "%%sql\n",
        "INSERT INTO Actors values('123-54-2367', 'Margot', 'Robbie', 30 );"
      ],
      "execution_count": 28,
      "outputs": [
        {
          "output_type": "stream",
          "text": [
            " * sqlite:///movieTheater.db\n",
            "1 rows affected.\n"
          ],
          "name": "stdout"
        },
        {
          "output_type": "execute_result",
          "data": {
            "text/plain": [
              "[]"
            ]
          },
          "metadata": {
            "tags": []
          },
          "execution_count": 28
        }
      ]
    },
    {
      "cell_type": "code",
      "metadata": {
        "id": "PE-HEOLDH_aJ",
        "colab": {
          "base_uri": "https://localhost:8080/"
        },
        "outputId": "5370a1cc-f471-4eca-c43e-5bb9d68ffa4f"
      },
      "source": [
        "%%sql\n",
        "INSERT INTO Actors values('133-56-7867', 'Dwayne', 'Johnson', 48 );"
      ],
      "execution_count": 29,
      "outputs": [
        {
          "output_type": "stream",
          "text": [
            " * sqlite:///movieTheater.db\n",
            "1 rows affected.\n"
          ],
          "name": "stdout"
        },
        {
          "output_type": "execute_result",
          "data": {
            "text/plain": [
              "[]"
            ]
          },
          "metadata": {
            "tags": []
          },
          "execution_count": 29
        }
      ]
    },
    {
      "cell_type": "code",
      "metadata": {
        "id": "jMCApvRRIApL",
        "colab": {
          "base_uri": "https://localhost:8080/"
        },
        "outputId": "82a19cf0-0ab6-44cc-cc3e-a153ee82c7b1"
      },
      "source": [
        "%%sql\n",
        "INSERT INTO Actors values('100-64-6121', 'Will', 'Smith', 52 );"
      ],
      "execution_count": 30,
      "outputs": [
        {
          "output_type": "stream",
          "text": [
            " * sqlite:///movieTheater.db\n",
            "1 rows affected.\n"
          ],
          "name": "stdout"
        },
        {
          "output_type": "execute_result",
          "data": {
            "text/plain": [
              "[]"
            ]
          },
          "metadata": {
            "tags": []
          },
          "execution_count": 30
        }
      ]
    },
    {
      "cell_type": "code",
      "metadata": {
        "id": "wicAc1QRIBZn",
        "colab": {
          "base_uri": "https://localhost:8080/"
        },
        "outputId": "ed37cd72-968a-4d56-da1c-361d05ab527b"
      },
      "source": [
        "%%sql\n",
        "INSERT INTO Actors values('145-89-5555', 'Danny', 'Devito', 76 );"
      ],
      "execution_count": 31,
      "outputs": [
        {
          "output_type": "stream",
          "text": [
            " * sqlite:///movieTheater.db\n",
            "1 rows affected.\n"
          ],
          "name": "stdout"
        },
        {
          "output_type": "execute_result",
          "data": {
            "text/plain": [
              "[]"
            ]
          },
          "metadata": {
            "tags": []
          },
          "execution_count": 31
        }
      ]
    },
    {
      "cell_type": "code",
      "metadata": {
        "id": "JAdr384QICeR",
        "colab": {
          "base_uri": "https://localhost:8080/"
        },
        "outputId": "d308df14-f89e-4d13-b149-e633ad4d8384"
      },
      "source": [
        "%%sql\n",
        "INSERT INTO Actors values('144-33-6512', 'Karen', 'Gillan', 32 );"
      ],
      "execution_count": 32,
      "outputs": [
        {
          "output_type": "stream",
          "text": [
            " * sqlite:///movieTheater.db\n",
            "1 rows affected.\n"
          ],
          "name": "stdout"
        },
        {
          "output_type": "execute_result",
          "data": {
            "text/plain": [
              "[]"
            ]
          },
          "metadata": {
            "tags": []
          },
          "execution_count": 32
        }
      ]
    },
    {
      "cell_type": "code",
      "metadata": {
        "id": "txcj8TY7IPI-",
        "colab": {
          "base_uri": "https://localhost:8080/"
        },
        "outputId": "b1299835-acd3-4bab-c218-015f09efec2c"
      },
      "source": [
        "%%sql\n",
        "CREATE TABLE Casting(actor text primary key, movie text, pay_grade text, number_starred_in integer);"
      ],
      "execution_count": 33,
      "outputs": [
        {
          "output_type": "stream",
          "text": [
            " * sqlite:///movieTheater.db\n",
            "Done.\n"
          ],
          "name": "stdout"
        },
        {
          "output_type": "execute_result",
          "data": {
            "text/plain": [
              "[]"
            ]
          },
          "metadata": {
            "tags": []
          },
          "execution_count": 33
        }
      ]
    },
    {
      "cell_type": "code",
      "metadata": {
        "id": "NAVZVc_oIR20",
        "colab": {
          "base_uri": "https://localhost:8080/"
        },
        "outputId": "c461b6c2-735b-4871-be9a-9910090a2a4a"
      },
      "source": [
        "%%sql\n",
        "INSERT INTO Casting values('Margot Robbie', 'The Wolf of Wall Street', 'A', 28 );"
      ],
      "execution_count": 34,
      "outputs": [
        {
          "output_type": "stream",
          "text": [
            " * sqlite:///movieTheater.db\n",
            "1 rows affected.\n"
          ],
          "name": "stdout"
        },
        {
          "output_type": "execute_result",
          "data": {
            "text/plain": [
              "[]"
            ]
          },
          "metadata": {
            "tags": []
          },
          "execution_count": 34
        }
      ]
    },
    {
      "cell_type": "code",
      "metadata": {
        "id": "svztS_9oIScC",
        "colab": {
          "base_uri": "https://localhost:8080/"
        },
        "outputId": "67950298-f9b5-4e25-b32a-6d20fd9f6508"
      },
      "source": [
        "%%sql\n",
        "INSERT INTO Casting values('Dwayne Johnson', 'Moana', 'A', 62 );"
      ],
      "execution_count": 35,
      "outputs": [
        {
          "output_type": "stream",
          "text": [
            " * sqlite:///movieTheater.db\n",
            "1 rows affected.\n"
          ],
          "name": "stdout"
        },
        {
          "output_type": "execute_result",
          "data": {
            "text/plain": [
              "[]"
            ]
          },
          "metadata": {
            "tags": []
          },
          "execution_count": 35
        }
      ]
    },
    {
      "cell_type": "code",
      "metadata": {
        "id": "8e2DpyXYITZM",
        "colab": {
          "base_uri": "https://localhost:8080/"
        },
        "outputId": "06be5e77-dc44-4a4b-c4e5-cc422b2f4dc0"
      },
      "source": [
        "%%sql\n",
        "INSERT INTO Casting values('Will Smith', 'I Am Legend', 'A', 37 );"
      ],
      "execution_count": 36,
      "outputs": [
        {
          "output_type": "stream",
          "text": [
            " * sqlite:///movieTheater.db\n",
            "1 rows affected.\n"
          ],
          "name": "stdout"
        },
        {
          "output_type": "execute_result",
          "data": {
            "text/plain": [
              "[]"
            ]
          },
          "metadata": {
            "tags": []
          },
          "execution_count": 36
        }
      ]
    },
    {
      "cell_type": "code",
      "metadata": {
        "id": "gXuIvpZGIUx5",
        "colab": {
          "base_uri": "https://localhost:8080/"
        },
        "outputId": "b7820145-7c55-4f9d-8554-bf7d18f87760"
      },
      "source": [
        "%%sql\n",
        "INSERT INTO Casting values('Danny Devito', 'Matilda', 'B', 95 );"
      ],
      "execution_count": 37,
      "outputs": [
        {
          "output_type": "stream",
          "text": [
            " * sqlite:///movieTheater.db\n",
            "1 rows affected.\n"
          ],
          "name": "stdout"
        },
        {
          "output_type": "execute_result",
          "data": {
            "text/plain": [
              "[]"
            ]
          },
          "metadata": {
            "tags": []
          },
          "execution_count": 37
        }
      ]
    },
    {
      "cell_type": "code",
      "metadata": {
        "id": "suewqAhPIVm8",
        "colab": {
          "base_uri": "https://localhost:8080/"
        },
        "outputId": "672bb866-a7b0-4d8a-d41d-10542b89cd2b"
      },
      "source": [
        "%%sql\n",
        "INSERT INTO Casting values('Karen Gillan', 'Jumanji', 'B', 25 );"
      ],
      "execution_count": 38,
      "outputs": [
        {
          "output_type": "stream",
          "text": [
            " * sqlite:///movieTheater.db\n",
            "1 rows affected.\n"
          ],
          "name": "stdout"
        },
        {
          "output_type": "execute_result",
          "data": {
            "text/plain": [
              "[]"
            ]
          },
          "metadata": {
            "tags": []
          },
          "execution_count": 38
        }
      ]
    },
    {
      "cell_type": "code",
      "metadata": {
        "id": "Epc3xtN8SSvW",
        "colab": {
          "base_uri": "https://localhost:8080/"
        },
        "outputId": "36d870b2-3f05-4179-f777-f2a9e2a50532"
      },
      "source": [
        "%%sql\n",
        "CREATE TABLE Genre(Genre text primary key, Title text, Duration int, Budget int);"
      ],
      "execution_count": 39,
      "outputs": [
        {
          "output_type": "stream",
          "text": [
            " * sqlite:///movieTheater.db\n",
            "Done.\n"
          ],
          "name": "stdout"
        },
        {
          "output_type": "execute_result",
          "data": {
            "text/plain": [
              "[]"
            ]
          },
          "metadata": {
            "tags": []
          },
          "execution_count": 39
        }
      ]
    },
    {
      "cell_type": "code",
      "metadata": {
        "id": "ZK1Its2DSUZW",
        "colab": {
          "base_uri": "https://localhost:8080/"
        },
        "outputId": "695f2858-ad9e-40b6-cf13-40a7be4e8ad8"
      },
      "source": [
        "%%sql\n",
        "INSERT INTO Genre values('Horror', 'The Shining', 273, 1500000);"
      ],
      "execution_count": 40,
      "outputs": [
        {
          "output_type": "stream",
          "text": [
            " * sqlite:///movieTheater.db\n",
            "1 rows affected.\n"
          ],
          "name": "stdout"
        },
        {
          "output_type": "execute_result",
          "data": {
            "text/plain": [
              "[]"
            ]
          },
          "metadata": {
            "tags": []
          },
          "execution_count": 40
        }
      ]
    },
    {
      "cell_type": "code",
      "metadata": {
        "id": "Y7U9YnDkSV0J",
        "colab": {
          "base_uri": "https://localhost:8080/"
        },
        "outputId": "fcd55519-eac8-4ba5-d40a-e206bbccc376"
      },
      "source": [
        "%%sql\n",
        "INSERT INTO Genre values('Comedy', 'Groundhog Day', 190, 2000000);"
      ],
      "execution_count": 41,
      "outputs": [
        {
          "output_type": "stream",
          "text": [
            " * sqlite:///movieTheater.db\n",
            "1 rows affected.\n"
          ],
          "name": "stdout"
        },
        {
          "output_type": "execute_result",
          "data": {
            "text/plain": [
              "[]"
            ]
          },
          "metadata": {
            "tags": []
          },
          "execution_count": 41
        }
      ]
    },
    {
      "cell_type": "code",
      "metadata": {
        "id": "3R_Vom0qSmd8",
        "colab": {
          "base_uri": "https://localhost:8080/"
        },
        "outputId": "48ecca08-0491-4ac7-b541-def9bd8f9cc5"
      },
      "source": [
        "%%sql\n",
        "INSERT INTO Genre values('Action', 'Transformers', 221, 7000000);"
      ],
      "execution_count": 42,
      "outputs": [
        {
          "output_type": "stream",
          "text": [
            " * sqlite:///movieTheater.db\n",
            "1 rows affected.\n"
          ],
          "name": "stdout"
        },
        {
          "output_type": "execute_result",
          "data": {
            "text/plain": [
              "[]"
            ]
          },
          "metadata": {
            "tags": []
          },
          "execution_count": 42
        }
      ]
    },
    {
      "cell_type": "code",
      "metadata": {
        "id": "_oGy9QsdSnuc",
        "colab": {
          "base_uri": "https://localhost:8080/"
        },
        "outputId": "c913d9b3-a778-4aec-de67-20caac7058e1"
      },
      "source": [
        "%%sql\n",
        "INSERT INTO Genre values('Sci-Fi', 'Arrival', 205, 1000000);"
      ],
      "execution_count": 43,
      "outputs": [
        {
          "output_type": "stream",
          "text": [
            " * sqlite:///movieTheater.db\n",
            "1 rows affected.\n"
          ],
          "name": "stdout"
        },
        {
          "output_type": "execute_result",
          "data": {
            "text/plain": [
              "[]"
            ]
          },
          "metadata": {
            "tags": []
          },
          "execution_count": 43
        }
      ]
    },
    {
      "cell_type": "code",
      "metadata": {
        "id": "Cc6pbAp5HzSC",
        "colab": {
          "base_uri": "https://localhost:8080/"
        },
        "outputId": "fd822fee-01fb-4285-e3e6-85a4c4435b13"
      },
      "source": [
        "%%sql\n",
        "INSERT INTO Genre values('Drama', 'Modern Times', 89, 1500000);"
      ],
      "execution_count": 44,
      "outputs": [
        {
          "output_type": "stream",
          "text": [
            " * sqlite:///movieTheater.db\n",
            "1 rows affected.\n"
          ],
          "name": "stdout"
        },
        {
          "output_type": "execute_result",
          "data": {
            "text/plain": [
              "[]"
            ]
          },
          "metadata": {
            "tags": []
          },
          "execution_count": 44
        }
      ]
    },
    {
      "cell_type": "code",
      "metadata": {
        "id": "c9ZeN60-MijV",
        "colab": {
          "base_uri": "https://localhost:8080/"
        },
        "outputId": "ea629096-479d-4b5d-b7e9-54b75faf47ea"
      },
      "source": [
        "%%sql\n",
        "CREATE TABLE Movie (IMDB_code text primary key, rating text, year_released integer, genre text);"
      ],
      "execution_count": 45,
      "outputs": [
        {
          "output_type": "stream",
          "text": [
            " * sqlite:///movieTheater.db\n",
            "Done.\n"
          ],
          "name": "stdout"
        },
        {
          "output_type": "execute_result",
          "data": {
            "text/plain": [
              "[]"
            ]
          },
          "metadata": {
            "tags": []
          },
          "execution_count": 45
        }
      ]
    },
    {
      "cell_type": "code",
      "metadata": {
        "id": "XlUcG9ofPBlE",
        "colab": {
          "base_uri": "https://localhost:8080/"
        },
        "outputId": "2faa2416-fb1d-4659-d569-7472218cfdb5"
      },
      "source": [
        "%%sql\n",
        "INSERT INTO Movie values('54321', 'R', 1980, 'Horror');"
      ],
      "execution_count": 46,
      "outputs": [
        {
          "output_type": "stream",
          "text": [
            " * sqlite:///movieTheater.db\n",
            "1 rows affected.\n"
          ],
          "name": "stdout"
        },
        {
          "output_type": "execute_result",
          "data": {
            "text/plain": [
              "[]"
            ]
          },
          "metadata": {
            "tags": []
          },
          "execution_count": 46
        }
      ]
    },
    {
      "cell_type": "code",
      "metadata": {
        "id": "51y87r4FQhBc",
        "colab": {
          "base_uri": "https://localhost:8080/"
        },
        "outputId": "d04eaebb-5b29-49b7-a7ad-3e653e21fbff"
      },
      "source": [
        "%%sql\n",
        "INSERT INTO Movie values('54322', 'PG', 1993, 'Comedy');"
      ],
      "execution_count": 47,
      "outputs": [
        {
          "output_type": "stream",
          "text": [
            " * sqlite:///movieTheater.db\n",
            "1 rows affected.\n"
          ],
          "name": "stdout"
        },
        {
          "output_type": "execute_result",
          "data": {
            "text/plain": [
              "[]"
            ]
          },
          "metadata": {
            "tags": []
          },
          "execution_count": 47
        }
      ]
    },
    {
      "cell_type": "code",
      "metadata": {
        "id": "SAWW4FNXQtef",
        "colab": {
          "base_uri": "https://localhost:8080/"
        },
        "outputId": "6fe57f83-1013-4569-c642-2daaf37ac6fd"
      },
      "source": [
        "%%sql\n",
        "INSERT INTO Movie values('54323', 'G', 1936, 'Drama');"
      ],
      "execution_count": 48,
      "outputs": [
        {
          "output_type": "stream",
          "text": [
            " * sqlite:///movieTheater.db\n",
            "1 rows affected.\n"
          ],
          "name": "stdout"
        },
        {
          "output_type": "execute_result",
          "data": {
            "text/plain": [
              "[]"
            ]
          },
          "metadata": {
            "tags": []
          },
          "execution_count": 48
        }
      ]
    },
    {
      "cell_type": "code",
      "metadata": {
        "id": "WVyJYVg0Qvsz",
        "colab": {
          "base_uri": "https://localhost:8080/"
        },
        "outputId": "5a700ade-9422-4429-bf12-ce3273de24f4"
      },
      "source": [
        "%%sql\n",
        "INSERT INTO Movie values('54324', 'PG-13', 2016, 'Sci-Fi');"
      ],
      "execution_count": 49,
      "outputs": [
        {
          "output_type": "stream",
          "text": [
            " * sqlite:///movieTheater.db\n",
            "1 rows affected.\n"
          ],
          "name": "stdout"
        },
        {
          "output_type": "execute_result",
          "data": {
            "text/plain": [
              "[]"
            ]
          },
          "metadata": {
            "tags": []
          },
          "execution_count": 49
        }
      ]
    },
    {
      "cell_type": "code",
      "metadata": {
        "id": "1H4R8FjjQwei",
        "colab": {
          "base_uri": "https://localhost:8080/"
        },
        "outputId": "af0ba5bb-f53a-416e-9ed7-a10ce85cdf6e"
      },
      "source": [
        "%%sql\n",
        "INSERT INTO Movie values('54325', 'PG-13', 2007, 'Action');"
      ],
      "execution_count": 50,
      "outputs": [
        {
          "output_type": "stream",
          "text": [
            " * sqlite:///movieTheater.db\n",
            "1 rows affected.\n"
          ],
          "name": "stdout"
        },
        {
          "output_type": "execute_result",
          "data": {
            "text/plain": [
              "[]"
            ]
          },
          "metadata": {
            "tags": []
          },
          "execution_count": 50
        }
      ]
    },
    {
      "cell_type": "markdown",
      "metadata": {
        "id": "qsueasWCeosU"
      },
      "source": [
        "##Question 1"
      ]
    },
    {
      "cell_type": "markdown",
      "metadata": {
        "id": "XkVR1I30euzW"
      },
      "source": [
        "How many movies have a rating of PG or G?"
      ]
    },
    {
      "cell_type": "markdown",
      "metadata": {
        "id": "liTbbv03e4Ui"
      },
      "source": [
        "##Question 1 SQL"
      ]
    },
    {
      "cell_type": "code",
      "metadata": {
        "colab": {
          "base_uri": "https://localhost:8080/",
          "height": 95
        },
        "id": "H0A99jh7e-Nn",
        "outputId": "ab9abaf9-f506-4dec-e57c-38fa1e8b1d47"
      },
      "source": [
        "%%sql\n",
        "SELECT COUNT(rating) from movie where rating='PG' or rating='G';"
      ],
      "execution_count": 51,
      "outputs": [
        {
          "output_type": "stream",
          "text": [
            " * sqlite:///movieTheater.db\n",
            "Done.\n"
          ],
          "name": "stdout"
        },
        {
          "output_type": "execute_result",
          "data": {
            "text/html": [
              "<table>\n",
              "    <tr>\n",
              "        <th>COUNT(rating)</th>\n",
              "    </tr>\n",
              "    <tr>\n",
              "        <td>2</td>\n",
              "    </tr>\n",
              "</table>"
            ],
            "text/plain": [
              "[(2,)]"
            ]
          },
          "metadata": {
            "tags": []
          },
          "execution_count": 51
        }
      ]
    },
    {
      "cell_type": "markdown",
      "metadata": {
        "id": "VNtQJ3oTgAwJ"
      },
      "source": [
        "##Question 1 Description"
      ]
    },
    {
      "cell_type": "markdown",
      "metadata": {
        "id": "v0aUtr14gEzn"
      },
      "source": [
        "This question was important because it is an example of a parent looking up movies in theaters to determine how many movies, they can take their children to that are shown in the screening room. The results matched up to my expectations upon running the query. The results of the query when executed match up to the expectations."
      ]
    },
    {
      "cell_type": "markdown",
      "metadata": {
        "id": "4agJ2btVgHl5"
      },
      "source": [
        "##Question 2"
      ]
    },
    {
      "cell_type": "markdown",
      "metadata": {
        "id": "5kEziJoDgJcd"
      },
      "source": [
        "What movie is Dwayne Johnson cast in?"
      ]
    },
    {
      "cell_type": "markdown",
      "metadata": {
        "id": "LYNMZDP7gKkq"
      },
      "source": [
        "##Question 2 SQL"
      ]
    },
    {
      "cell_type": "code",
      "metadata": {
        "colab": {
          "base_uri": "https://localhost:8080/",
          "height": 95
        },
        "id": "dh6v_4XdgQpe",
        "outputId": "64a304f6-712c-4f62-d030-0ce401c87eac"
      },
      "source": [
        "%%sql\n",
        "SELECT actor, movie from casting where actor=\"Dwayne Johnson\";"
      ],
      "execution_count": 52,
      "outputs": [
        {
          "output_type": "stream",
          "text": [
            " * sqlite:///movieTheater.db\n",
            "Done.\n"
          ],
          "name": "stdout"
        },
        {
          "output_type": "execute_result",
          "data": {
            "text/html": [
              "<table>\n",
              "    <tr>\n",
              "        <th>actor</th>\n",
              "        <th>movie</th>\n",
              "    </tr>\n",
              "    <tr>\n",
              "        <td>Dwayne Johnson</td>\n",
              "        <td>Moana</td>\n",
              "    </tr>\n",
              "</table>"
            ],
            "text/plain": [
              "[('Dwayne Johnson', 'Moana')]"
            ]
          },
          "metadata": {
            "tags": []
          },
          "execution_count": 52
        }
      ]
    },
    {
      "cell_type": "markdown",
      "metadata": {
        "id": "H4s4-Ie_gSyo"
      },
      "source": [
        "##Question 2 Description"
      ]
    },
    {
      "cell_type": "markdown",
      "metadata": {
        "id": "MyoDVnksgV7F"
      },
      "source": [
        "This question is important because it is an example of an individual searching out one of their preferred actors. This helps narrow down their search as they can watch the movies, they will see their favorite people in. The results of the query when executed match up to the expectations."
      ]
    },
    {
      "cell_type": "markdown",
      "metadata": {
        "id": "nlO-ml7ngYgR"
      },
      "source": [
        "##Question 3"
      ]
    },
    {
      "cell_type": "markdown",
      "metadata": {
        "id": "P6Dh4o7nganC"
      },
      "source": [
        "Which screening rooms have the most number of seats?"
      ]
    },
    {
      "cell_type": "markdown",
      "metadata": {
        "id": "H8EtUB6ggbr1"
      },
      "source": [
        "##Question 3 SQL"
      ]
    },
    {
      "cell_type": "code",
      "metadata": {
        "colab": {
          "base_uri": "https://localhost:8080/",
          "height": 179
        },
        "id": "nwZG4NIqgf2d",
        "outputId": "ccefa523-63d3-4a9d-8977-9ed7b3efad96"
      },
      "source": [
        "%%sql\n",
        "SELECT room_number, number_of_seats from screening_room where number_of_seats order by number_of_seats desc;"
      ],
      "execution_count": 53,
      "outputs": [
        {
          "output_type": "stream",
          "text": [
            " * sqlite:///movieTheater.db\n",
            "Done.\n"
          ],
          "name": "stdout"
        },
        {
          "output_type": "execute_result",
          "data": {
            "text/html": [
              "<table>\n",
              "    <tr>\n",
              "        <th>room_number</th>\n",
              "        <th>number_of_seats</th>\n",
              "    </tr>\n",
              "    <tr>\n",
              "        <td>2</td>\n",
              "        <td>100</td>\n",
              "    </tr>\n",
              "    <tr>\n",
              "        <td>3</td>\n",
              "        <td>75</td>\n",
              "    </tr>\n",
              "    <tr>\n",
              "        <td>4</td>\n",
              "        <td>60</td>\n",
              "    </tr>\n",
              "    <tr>\n",
              "        <td>1</td>\n",
              "        <td>50</td>\n",
              "    </tr>\n",
              "    <tr>\n",
              "        <td>5</td>\n",
              "        <td>50</td>\n",
              "    </tr>\n",
              "</table>"
            ],
            "text/plain": [
              "[(2, 100), (3, 75), (4, 60), (1, 50), (5, 50)]"
            ]
          },
          "metadata": {
            "tags": []
          },
          "execution_count": 53
        }
      ]
    },
    {
      "cell_type": "markdown",
      "metadata": {
        "id": "8r6KJxk1ghcf"
      },
      "source": [
        "##Question 3 Description"
      ]
    },
    {
      "cell_type": "markdown",
      "metadata": {
        "id": "Otf58I0fglhf"
      },
      "source": [
        "This question is of importance as it allows the movie theatre staff, workers, etc. to understand and gauge everything they need to know in terms of preparation for the customers and making sure that everything is able to go according to plan. The results of the query when executed match up to the expectations."
      ]
    }
  ]
}