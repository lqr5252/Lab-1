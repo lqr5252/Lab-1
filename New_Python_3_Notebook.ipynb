{
  "nbformat": 4,
  "nbformat_minor": 0,
  "metadata": {
    "colab": {
      "name": "New Python 3 Notebook.ipynb",
      "provenance": [],
      "collapsed_sections": [],
      "authorship_tag": "ABX9TyMFHG4hwctGqitI/JtFYipm",
      "include_colab_link": true
    },
    "kernelspec": {
      "name": "python3",
      "display_name": "Python 3"
    }
  },
  "cells": [
    {
      "cell_type": "markdown",
      "metadata": {
        "id": "view-in-github",
        "colab_type": "text"
      },
      "source": [
        "<a href=\"https://colab.research.google.com/github/lqr5252/Lab-1/blob/master/New_Python_3_Notebook.ipynb\" target=\"_parent\"><img src=\"https://colab.research.google.com/assets/colab-badge.svg\" alt=\"Open In Colab\"/></a>"
      ]
    },
    {
      "cell_type": "markdown",
      "metadata": {
        "id": "oRojqP79fr9k",
        "colab_type": "text"
      },
      "source": [
        "# Do you like using Jupyter Notebooks?"
      ]
    },
    {
      "cell_type": "markdown",
      "metadata": {
        "id": "a8g_AxlKf2eF",
        "colab_type": "text"
      },
      "source": [
        "I like using Jupyter Notebooks. It is a very useful utility for creating databases."
      ]
    },
    {
      "cell_type": "markdown",
      "metadata": {
        "id": "cAD6hkD6f_SA",
        "colab_type": "text"
      },
      "source": [
        "#What do you want to learn more about in Jupyter Notebooks?"
      ]
    },
    {
      "cell_type": "markdown",
      "metadata": {
        "id": "d45oqZOCgJ28",
        "colab_type": "text"
      },
      "source": [
        "I want to learn about all of the features available on Jupyter Notebooks. I want to learn the languages of Jupyter Notebooks."
      ]
    },
    {
      "cell_type": "markdown",
      "metadata": {
        "id": "n8iiM6SQgiFp",
        "colab_type": "text"
      },
      "source": [
        "![Image of Golden Retreiver](https://raw.githubusercontent.com/lqr5252/Lab-1/master/images/9F2A0CA5-D608-46BE-8078-8620184D01CB.jpeg)"
      ]
    }
  ]
}